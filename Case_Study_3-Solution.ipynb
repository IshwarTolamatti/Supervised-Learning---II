{
 "cells": [
  {
   "cell_type": "code",
   "execution_count": 42,
   "metadata": {},
   "outputs": [],
   "source": [
    "import numpy as np\n",
    "import pandas as pd\n",
    "import matplotlib.pyplot as plt\n",
    "import seaborn as sns\n",
    "%matplotlib inline"
   ]
  },
  {
   "cell_type": "code",
   "execution_count": 43,
   "metadata": {},
   "outputs": [],
   "source": [
    "df=pd.read_csv(\"C:\\\\Dump\\\\Ishwar\\\\Data_Science\\\\Edureka\\\\Class 9\\\\DataSets\\\\College.csv\")"
   ]
  },
  {
   "cell_type": "code",
   "execution_count": 44,
   "metadata": {},
   "outputs": [
    {
     "data": {
      "text/html": [
       "<div>\n",
       "<style scoped>\n",
       "    .dataframe tbody tr th:only-of-type {\n",
       "        vertical-align: middle;\n",
       "    }\n",
       "\n",
       "    .dataframe tbody tr th {\n",
       "        vertical-align: top;\n",
       "    }\n",
       "\n",
       "    .dataframe thead th {\n",
       "        text-align: right;\n",
       "    }\n",
       "</style>\n",
       "<table border=\"1\" class=\"dataframe\">\n",
       "  <thead>\n",
       "    <tr style=\"text-align: right;\">\n",
       "      <th></th>\n",
       "      <th>Private</th>\n",
       "      <th>Apps</th>\n",
       "      <th>Accept</th>\n",
       "      <th>Enroll</th>\n",
       "      <th>Top10perc</th>\n",
       "      <th>Top25perc</th>\n",
       "      <th>F.Undergrad</th>\n",
       "      <th>P.Undergrad</th>\n",
       "      <th>Outstate</th>\n",
       "      <th>Room.Board</th>\n",
       "      <th>Books</th>\n",
       "      <th>Personal</th>\n",
       "      <th>PhD</th>\n",
       "      <th>Terminal</th>\n",
       "      <th>S.F.Ratio</th>\n",
       "      <th>perc.alumni</th>\n",
       "      <th>Expend</th>\n",
       "      <th>Grad.Rate</th>\n",
       "    </tr>\n",
       "  </thead>\n",
       "  <tbody>\n",
       "    <tr>\n",
       "      <th>0</th>\n",
       "      <td>Yes</td>\n",
       "      <td>1660</td>\n",
       "      <td>1232</td>\n",
       "      <td>721</td>\n",
       "      <td>23</td>\n",
       "      <td>52</td>\n",
       "      <td>2885</td>\n",
       "      <td>537</td>\n",
       "      <td>7440</td>\n",
       "      <td>3300</td>\n",
       "      <td>450</td>\n",
       "      <td>2200</td>\n",
       "      <td>70</td>\n",
       "      <td>78</td>\n",
       "      <td>18.1</td>\n",
       "      <td>12</td>\n",
       "      <td>7041</td>\n",
       "      <td>60</td>\n",
       "    </tr>\n",
       "    <tr>\n",
       "      <th>1</th>\n",
       "      <td>Yes</td>\n",
       "      <td>2186</td>\n",
       "      <td>1924</td>\n",
       "      <td>512</td>\n",
       "      <td>16</td>\n",
       "      <td>29</td>\n",
       "      <td>2683</td>\n",
       "      <td>1227</td>\n",
       "      <td>12280</td>\n",
       "      <td>6450</td>\n",
       "      <td>750</td>\n",
       "      <td>1500</td>\n",
       "      <td>29</td>\n",
       "      <td>30</td>\n",
       "      <td>12.2</td>\n",
       "      <td>16</td>\n",
       "      <td>10527</td>\n",
       "      <td>56</td>\n",
       "    </tr>\n",
       "    <tr>\n",
       "      <th>2</th>\n",
       "      <td>Yes</td>\n",
       "      <td>1428</td>\n",
       "      <td>1097</td>\n",
       "      <td>336</td>\n",
       "      <td>22</td>\n",
       "      <td>50</td>\n",
       "      <td>1036</td>\n",
       "      <td>99</td>\n",
       "      <td>11250</td>\n",
       "      <td>3750</td>\n",
       "      <td>400</td>\n",
       "      <td>1165</td>\n",
       "      <td>53</td>\n",
       "      <td>66</td>\n",
       "      <td>12.9</td>\n",
       "      <td>30</td>\n",
       "      <td>8735</td>\n",
       "      <td>54</td>\n",
       "    </tr>\n",
       "    <tr>\n",
       "      <th>3</th>\n",
       "      <td>Yes</td>\n",
       "      <td>417</td>\n",
       "      <td>349</td>\n",
       "      <td>137</td>\n",
       "      <td>60</td>\n",
       "      <td>89</td>\n",
       "      <td>510</td>\n",
       "      <td>63</td>\n",
       "      <td>12960</td>\n",
       "      <td>5450</td>\n",
       "      <td>450</td>\n",
       "      <td>875</td>\n",
       "      <td>92</td>\n",
       "      <td>97</td>\n",
       "      <td>7.7</td>\n",
       "      <td>37</td>\n",
       "      <td>19016</td>\n",
       "      <td>59</td>\n",
       "    </tr>\n",
       "    <tr>\n",
       "      <th>4</th>\n",
       "      <td>Yes</td>\n",
       "      <td>193</td>\n",
       "      <td>146</td>\n",
       "      <td>55</td>\n",
       "      <td>16</td>\n",
       "      <td>44</td>\n",
       "      <td>249</td>\n",
       "      <td>869</td>\n",
       "      <td>7560</td>\n",
       "      <td>4120</td>\n",
       "      <td>800</td>\n",
       "      <td>1500</td>\n",
       "      <td>76</td>\n",
       "      <td>72</td>\n",
       "      <td>11.9</td>\n",
       "      <td>2</td>\n",
       "      <td>10922</td>\n",
       "      <td>15</td>\n",
       "    </tr>\n",
       "    <tr>\n",
       "      <th>5</th>\n",
       "      <td>Yes</td>\n",
       "      <td>587</td>\n",
       "      <td>479</td>\n",
       "      <td>158</td>\n",
       "      <td>38</td>\n",
       "      <td>62</td>\n",
       "      <td>678</td>\n",
       "      <td>41</td>\n",
       "      <td>13500</td>\n",
       "      <td>3335</td>\n",
       "      <td>500</td>\n",
       "      <td>675</td>\n",
       "      <td>67</td>\n",
       "      <td>73</td>\n",
       "      <td>9.4</td>\n",
       "      <td>11</td>\n",
       "      <td>9727</td>\n",
       "      <td>55</td>\n",
       "    </tr>\n",
       "    <tr>\n",
       "      <th>6</th>\n",
       "      <td>Yes</td>\n",
       "      <td>353</td>\n",
       "      <td>340</td>\n",
       "      <td>103</td>\n",
       "      <td>17</td>\n",
       "      <td>45</td>\n",
       "      <td>416</td>\n",
       "      <td>230</td>\n",
       "      <td>13290</td>\n",
       "      <td>5720</td>\n",
       "      <td>500</td>\n",
       "      <td>1500</td>\n",
       "      <td>90</td>\n",
       "      <td>93</td>\n",
       "      <td>11.5</td>\n",
       "      <td>26</td>\n",
       "      <td>8861</td>\n",
       "      <td>63</td>\n",
       "    </tr>\n",
       "    <tr>\n",
       "      <th>7</th>\n",
       "      <td>Yes</td>\n",
       "      <td>1899</td>\n",
       "      <td>1720</td>\n",
       "      <td>489</td>\n",
       "      <td>37</td>\n",
       "      <td>68</td>\n",
       "      <td>1594</td>\n",
       "      <td>32</td>\n",
       "      <td>13868</td>\n",
       "      <td>4826</td>\n",
       "      <td>450</td>\n",
       "      <td>850</td>\n",
       "      <td>89</td>\n",
       "      <td>100</td>\n",
       "      <td>13.7</td>\n",
       "      <td>37</td>\n",
       "      <td>11487</td>\n",
       "      <td>73</td>\n",
       "    </tr>\n",
       "    <tr>\n",
       "      <th>8</th>\n",
       "      <td>Yes</td>\n",
       "      <td>1038</td>\n",
       "      <td>839</td>\n",
       "      <td>227</td>\n",
       "      <td>30</td>\n",
       "      <td>63</td>\n",
       "      <td>973</td>\n",
       "      <td>306</td>\n",
       "      <td>15595</td>\n",
       "      <td>4400</td>\n",
       "      <td>300</td>\n",
       "      <td>500</td>\n",
       "      <td>79</td>\n",
       "      <td>84</td>\n",
       "      <td>11.3</td>\n",
       "      <td>23</td>\n",
       "      <td>11644</td>\n",
       "      <td>80</td>\n",
       "    </tr>\n",
       "    <tr>\n",
       "      <th>9</th>\n",
       "      <td>Yes</td>\n",
       "      <td>582</td>\n",
       "      <td>498</td>\n",
       "      <td>172</td>\n",
       "      <td>21</td>\n",
       "      <td>44</td>\n",
       "      <td>799</td>\n",
       "      <td>78</td>\n",
       "      <td>10468</td>\n",
       "      <td>3380</td>\n",
       "      <td>660</td>\n",
       "      <td>1800</td>\n",
       "      <td>40</td>\n",
       "      <td>41</td>\n",
       "      <td>11.5</td>\n",
       "      <td>15</td>\n",
       "      <td>8991</td>\n",
       "      <td>52</td>\n",
       "    </tr>\n",
       "  </tbody>\n",
       "</table>\n",
       "</div>"
      ],
      "text/plain": [
       "  Private  Apps  Accept  Enroll  Top10perc  Top25perc  F.Undergrad  \\\n",
       "0     Yes  1660    1232     721         23         52         2885   \n",
       "1     Yes  2186    1924     512         16         29         2683   \n",
       "2     Yes  1428    1097     336         22         50         1036   \n",
       "3     Yes   417     349     137         60         89          510   \n",
       "4     Yes   193     146      55         16         44          249   \n",
       "5     Yes   587     479     158         38         62          678   \n",
       "6     Yes   353     340     103         17         45          416   \n",
       "7     Yes  1899    1720     489         37         68         1594   \n",
       "8     Yes  1038     839     227         30         63          973   \n",
       "9     Yes   582     498     172         21         44          799   \n",
       "\n",
       "   P.Undergrad  Outstate  Room.Board  Books  Personal  PhD  Terminal  \\\n",
       "0          537      7440        3300    450      2200   70        78   \n",
       "1         1227     12280        6450    750      1500   29        30   \n",
       "2           99     11250        3750    400      1165   53        66   \n",
       "3           63     12960        5450    450       875   92        97   \n",
       "4          869      7560        4120    800      1500   76        72   \n",
       "5           41     13500        3335    500       675   67        73   \n",
       "6          230     13290        5720    500      1500   90        93   \n",
       "7           32     13868        4826    450       850   89       100   \n",
       "8          306     15595        4400    300       500   79        84   \n",
       "9           78     10468        3380    660      1800   40        41   \n",
       "\n",
       "   S.F.Ratio  perc.alumni  Expend  Grad.Rate  \n",
       "0       18.1           12    7041         60  \n",
       "1       12.2           16   10527         56  \n",
       "2       12.9           30    8735         54  \n",
       "3        7.7           37   19016         59  \n",
       "4       11.9            2   10922         15  \n",
       "5        9.4           11    9727         55  \n",
       "6       11.5           26    8861         63  \n",
       "7       13.7           37   11487         73  \n",
       "8       11.3           23   11644         80  \n",
       "9       11.5           15    8991         52  "
      ]
     },
     "execution_count": 44,
     "metadata": {},
     "output_type": "execute_result"
    }
   ],
   "source": [
    "df.head(10)"
   ]
  },
  {
   "cell_type": "code",
   "execution_count": 45,
   "metadata": {},
   "outputs": [
    {
     "name": "stdout",
     "output_type": "stream",
     "text": [
      "<class 'pandas.core.frame.DataFrame'>\n",
      "RangeIndex: 777 entries, 0 to 776\n",
      "Data columns (total 18 columns):\n",
      "Private        777 non-null object\n",
      "Apps           777 non-null int64\n",
      "Accept         777 non-null int64\n",
      "Enroll         777 non-null int64\n",
      "Top10perc      777 non-null int64\n",
      "Top25perc      777 non-null int64\n",
      "F.Undergrad    777 non-null int64\n",
      "P.Undergrad    777 non-null int64\n",
      "Outstate       777 non-null int64\n",
      "Room.Board     777 non-null int64\n",
      "Books          777 non-null int64\n",
      "Personal       777 non-null int64\n",
      "PhD            777 non-null int64\n",
      "Terminal       777 non-null int64\n",
      "S.F.Ratio      777 non-null float64\n",
      "perc.alumni    777 non-null int64\n",
      "Expend         777 non-null int64\n",
      "Grad.Rate      777 non-null int64\n",
      "dtypes: float64(1), int64(16), object(1)\n",
      "memory usage: 109.3+ KB\n"
     ]
    }
   ],
   "source": [
    "df.info()"
   ]
  },
  {
   "cell_type": "code",
   "execution_count": 46,
   "metadata": {},
   "outputs": [
    {
     "data": {
      "text/plain": [
       "Private        0\n",
       "Apps           0\n",
       "Accept         0\n",
       "Enroll         0\n",
       "Top10perc      0\n",
       "Top25perc      0\n",
       "F.Undergrad    0\n",
       "P.Undergrad    0\n",
       "Outstate       0\n",
       "Room.Board     0\n",
       "Books          0\n",
       "Personal       0\n",
       "PhD            0\n",
       "Terminal       0\n",
       "S.F.Ratio      0\n",
       "perc.alumni    0\n",
       "Expend         0\n",
       "Grad.Rate      0\n",
       "dtype: int64"
      ]
     },
     "execution_count": 46,
     "metadata": {},
     "output_type": "execute_result"
    }
   ],
   "source": [
    "df.isnull().sum()"
   ]
  },
  {
   "cell_type": "code",
   "execution_count": 47,
   "metadata": {},
   "outputs": [],
   "source": [
    "x=df.drop(\"Private\",axis=1)\n",
    "y=df[\"Private\"]"
   ]
  },
  {
   "cell_type": "code",
   "execution_count": 48,
   "metadata": {},
   "outputs": [],
   "source": [
    "y=pd.get_dummies(y,drop_first=True)"
   ]
  },
  {
   "cell_type": "code",
   "execution_count": 49,
   "metadata": {},
   "outputs": [],
   "source": [
    "from sklearn.model_selection import train_test_split\n",
    "X_train,X_test,y_train,y_test=train_test_split(x,y,test_size=0.2)"
   ]
  },
  {
   "cell_type": "code",
   "execution_count": 50,
   "metadata": {},
   "outputs": [
    {
     "name": "stderr",
     "output_type": "stream",
     "text": [
      "C:\\Users\\EZTOLIS\\AppData\\Local\\Continuum\\anaconda3\\lib\\site-packages\\sklearn\\utils\\validation.py:761: DataConversionWarning: A column-vector y was passed when a 1d array was expected. Please change the shape of y to (n_samples, ), for example using ravel().\n",
      "  y = column_or_1d(y, warn=True)\n"
     ]
    },
    {
     "data": {
      "text/plain": [
       "SVC(C=1.0, cache_size=200, class_weight=None, coef0=0.0,\n",
       "  decision_function_shape='ovr', degree=3, gamma='auto_deprecated',\n",
       "  kernel='linear', max_iter=-1, probability=False, random_state=None,\n",
       "  shrinking=True, tol=0.001, verbose=False)"
      ]
     },
     "execution_count": 50,
     "metadata": {},
     "output_type": "execute_result"
    }
   ],
   "source": [
    "from sklearn.svm import SVC\n",
    "svl=SVC(kernel=\"linear\")\n",
    "svl.fit(X_train,y_train)"
   ]
  },
  {
   "cell_type": "code",
   "execution_count": 51,
   "metadata": {},
   "outputs": [],
   "source": [
    "y_pred=svl.predict(X_test)"
   ]
  },
  {
   "cell_type": "code",
   "execution_count": 52,
   "metadata": {},
   "outputs": [
    {
     "data": {
      "text/plain": [
       "array([[ 44,   2],\n",
       "       [ 10, 100]], dtype=int64)"
      ]
     },
     "execution_count": 52,
     "metadata": {},
     "output_type": "execute_result"
    }
   ],
   "source": [
    "from sklearn.metrics import confusion_matrix,accuracy_score,classification_report\n",
    "confusion_matrix(y_test,y_pred)"
   ]
  },
  {
   "cell_type": "code",
   "execution_count": 53,
   "metadata": {},
   "outputs": [
    {
     "data": {
      "text/plain": [
       "0.9230769230769231"
      ]
     },
     "execution_count": 53,
     "metadata": {},
     "output_type": "execute_result"
    }
   ],
   "source": [
    "accuracy_score(y_test,y_pred)"
   ]
  },
  {
   "cell_type": "code",
   "execution_count": 54,
   "metadata": {},
   "outputs": [
    {
     "name": "stdout",
     "output_type": "stream",
     "text": [
      "              precision    recall  f1-score   support\n",
      "\n",
      "           0       0.81      0.96      0.88        46\n",
      "           1       0.98      0.91      0.94       110\n",
      "\n",
      "   micro avg       0.92      0.92      0.92       156\n",
      "   macro avg       0.90      0.93      0.91       156\n",
      "weighted avg       0.93      0.92      0.92       156\n",
      "\n"
     ]
    }
   ],
   "source": [
    "print(classification_report(y_test,y_pred))"
   ]
  },
  {
   "cell_type": "code",
   "execution_count": 55,
   "metadata": {},
   "outputs": [
    {
     "name": "stderr",
     "output_type": "stream",
     "text": [
      "C:\\Users\\EZTOLIS\\AppData\\Local\\Continuum\\anaconda3\\lib\\site-packages\\sklearn\\preprocessing\\data.py:625: DataConversionWarning: Data with input dtype int64, float64 were all converted to float64 by StandardScaler.\n",
      "  return self.partial_fit(X, y)\n",
      "C:\\Users\\EZTOLIS\\AppData\\Local\\Continuum\\anaconda3\\lib\\site-packages\\sklearn\\base.py:462: DataConversionWarning: Data with input dtype int64, float64 were all converted to float64 by StandardScaler.\n",
      "  return self.fit(X, **fit_params).transform(X)\n"
     ]
    }
   ],
   "source": [
    "from sklearn.preprocessing import StandardScaler\n",
    "sc=StandardScaler()\n",
    "x=sc.fit_transform(x)"
   ]
  },
  {
   "cell_type": "code",
   "execution_count": 56,
   "metadata": {},
   "outputs": [
    {
     "data": {
      "text/html": [
       "<div>\n",
       "<style scoped>\n",
       "    .dataframe tbody tr th:only-of-type {\n",
       "        vertical-align: middle;\n",
       "    }\n",
       "\n",
       "    .dataframe tbody tr th {\n",
       "        vertical-align: top;\n",
       "    }\n",
       "\n",
       "    .dataframe thead th {\n",
       "        text-align: right;\n",
       "    }\n",
       "</style>\n",
       "<table border=\"1\" class=\"dataframe\">\n",
       "  <thead>\n",
       "    <tr style=\"text-align: right;\">\n",
       "      <th></th>\n",
       "      <th>0</th>\n",
       "      <th>1</th>\n",
       "      <th>2</th>\n",
       "      <th>3</th>\n",
       "      <th>4</th>\n",
       "      <th>5</th>\n",
       "      <th>6</th>\n",
       "      <th>7</th>\n",
       "      <th>8</th>\n",
       "      <th>9</th>\n",
       "      <th>10</th>\n",
       "      <th>11</th>\n",
       "      <th>12</th>\n",
       "      <th>13</th>\n",
       "      <th>14</th>\n",
       "      <th>15</th>\n",
       "      <th>16</th>\n",
       "    </tr>\n",
       "  </thead>\n",
       "  <tbody>\n",
       "    <tr>\n",
       "      <th>0</th>\n",
       "      <td>-0.346882</td>\n",
       "      <td>-0.321205</td>\n",
       "      <td>-0.063509</td>\n",
       "      <td>-0.258583</td>\n",
       "      <td>-0.191827</td>\n",
       "      <td>-0.168116</td>\n",
       "      <td>-0.209207</td>\n",
       "      <td>-0.746356</td>\n",
       "      <td>-0.964905</td>\n",
       "      <td>-0.602312</td>\n",
       "      <td>1.270045</td>\n",
       "      <td>-0.163028</td>\n",
       "      <td>-0.115729</td>\n",
       "      <td>1.013776</td>\n",
       "      <td>-0.867574</td>\n",
       "      <td>-0.501910</td>\n",
       "      <td>-0.318252</td>\n",
       "    </tr>\n",
       "    <tr>\n",
       "      <th>1</th>\n",
       "      <td>-0.210884</td>\n",
       "      <td>-0.038703</td>\n",
       "      <td>-0.288584</td>\n",
       "      <td>-0.655656</td>\n",
       "      <td>-1.353911</td>\n",
       "      <td>-0.209788</td>\n",
       "      <td>0.244307</td>\n",
       "      <td>0.457496</td>\n",
       "      <td>1.909208</td>\n",
       "      <td>1.215880</td>\n",
       "      <td>0.235515</td>\n",
       "      <td>-2.675646</td>\n",
       "      <td>-3.378176</td>\n",
       "      <td>-0.477704</td>\n",
       "      <td>-0.544572</td>\n",
       "      <td>0.166110</td>\n",
       "      <td>-0.551262</td>\n",
       "    </tr>\n",
       "    <tr>\n",
       "      <th>2</th>\n",
       "      <td>-0.406866</td>\n",
       "      <td>-0.376318</td>\n",
       "      <td>-0.478121</td>\n",
       "      <td>-0.315307</td>\n",
       "      <td>-0.292878</td>\n",
       "      <td>-0.549565</td>\n",
       "      <td>-0.497090</td>\n",
       "      <td>0.201305</td>\n",
       "      <td>-0.554317</td>\n",
       "      <td>-0.905344</td>\n",
       "      <td>-0.259582</td>\n",
       "      <td>-1.204845</td>\n",
       "      <td>-0.931341</td>\n",
       "      <td>-0.300749</td>\n",
       "      <td>0.585935</td>\n",
       "      <td>-0.177290</td>\n",
       "      <td>-0.667767</td>\n",
       "    </tr>\n",
       "    <tr>\n",
       "      <th>3</th>\n",
       "      <td>-0.668261</td>\n",
       "      <td>-0.681682</td>\n",
       "      <td>-0.692427</td>\n",
       "      <td>1.840231</td>\n",
       "      <td>1.677612</td>\n",
       "      <td>-0.658079</td>\n",
       "      <td>-0.520752</td>\n",
       "      <td>0.626633</td>\n",
       "      <td>0.996791</td>\n",
       "      <td>-0.602312</td>\n",
       "      <td>-0.688173</td>\n",
       "      <td>1.185206</td>\n",
       "      <td>1.175657</td>\n",
       "      <td>-1.615274</td>\n",
       "      <td>1.151188</td>\n",
       "      <td>1.792851</td>\n",
       "      <td>-0.376504</td>\n",
       "    </tr>\n",
       "    <tr>\n",
       "      <th>4</th>\n",
       "      <td>-0.726176</td>\n",
       "      <td>-0.764555</td>\n",
       "      <td>-0.780735</td>\n",
       "      <td>-0.655656</td>\n",
       "      <td>-0.596031</td>\n",
       "      <td>-0.711924</td>\n",
       "      <td>0.009005</td>\n",
       "      <td>-0.716508</td>\n",
       "      <td>-0.216723</td>\n",
       "      <td>1.518912</td>\n",
       "      <td>0.235515</td>\n",
       "      <td>0.204672</td>\n",
       "      <td>-0.523535</td>\n",
       "      <td>-0.553542</td>\n",
       "      <td>-1.675079</td>\n",
       "      <td>0.241803</td>\n",
       "      <td>-2.939613</td>\n",
       "    </tr>\n",
       "  </tbody>\n",
       "</table>\n",
       "</div>"
      ],
      "text/plain": [
       "         0         1         2         3         4         5         6   \\\n",
       "0 -0.346882 -0.321205 -0.063509 -0.258583 -0.191827 -0.168116 -0.209207   \n",
       "1 -0.210884 -0.038703 -0.288584 -0.655656 -1.353911 -0.209788  0.244307   \n",
       "2 -0.406866 -0.376318 -0.478121 -0.315307 -0.292878 -0.549565 -0.497090   \n",
       "3 -0.668261 -0.681682 -0.692427  1.840231  1.677612 -0.658079 -0.520752   \n",
       "4 -0.726176 -0.764555 -0.780735 -0.655656 -0.596031 -0.711924  0.009005   \n",
       "\n",
       "         7         8         9         10        11        12        13  \\\n",
       "0 -0.746356 -0.964905 -0.602312  1.270045 -0.163028 -0.115729  1.013776   \n",
       "1  0.457496  1.909208  1.215880  0.235515 -2.675646 -3.378176 -0.477704   \n",
       "2  0.201305 -0.554317 -0.905344 -0.259582 -1.204845 -0.931341 -0.300749   \n",
       "3  0.626633  0.996791 -0.602312 -0.688173  1.185206  1.175657 -1.615274   \n",
       "4 -0.716508 -0.216723  1.518912  0.235515  0.204672 -0.523535 -0.553542   \n",
       "\n",
       "         14        15        16  \n",
       "0 -0.867574 -0.501910 -0.318252  \n",
       "1 -0.544572  0.166110 -0.551262  \n",
       "2  0.585935 -0.177290 -0.667767  \n",
       "3  1.151188  1.792851 -0.376504  \n",
       "4 -1.675079  0.241803 -2.939613  "
      ]
     },
     "execution_count": 56,
     "metadata": {},
     "output_type": "execute_result"
    }
   ],
   "source": [
    "pd.DataFrame(x).head()"
   ]
  },
  {
   "cell_type": "code",
   "execution_count": 57,
   "metadata": {},
   "outputs": [],
   "source": [
    "from sklearn.model_selection import train_test_split\n",
    "X_train,X_test,y_train,y_test=train_test_split(x,y,test_size=0.2)"
   ]
  },
  {
   "cell_type": "code",
   "execution_count": 58,
   "metadata": {},
   "outputs": [
    {
     "name": "stderr",
     "output_type": "stream",
     "text": [
      "C:\\Users\\EZTOLIS\\AppData\\Local\\Continuum\\anaconda3\\lib\\site-packages\\sklearn\\utils\\validation.py:761: DataConversionWarning: A column-vector y was passed when a 1d array was expected. Please change the shape of y to (n_samples, ), for example using ravel().\n",
      "  y = column_or_1d(y, warn=True)\n"
     ]
    },
    {
     "data": {
      "text/plain": [
       "SVC(C=1.0, cache_size=200, class_weight=None, coef0=0.0,\n",
       "  decision_function_shape='ovr', degree=3, gamma='auto_deprecated',\n",
       "  kernel='linear', max_iter=-1, probability=False, random_state=None,\n",
       "  shrinking=True, tol=0.001, verbose=False)"
      ]
     },
     "execution_count": 58,
     "metadata": {},
     "output_type": "execute_result"
    }
   ],
   "source": [
    "from sklearn.svm import SVC\n",
    "svl2=SVC(kernel=\"linear\")\n",
    "svl2.fit(X_train,y_train)"
   ]
  },
  {
   "cell_type": "code",
   "execution_count": 59,
   "metadata": {},
   "outputs": [],
   "source": [
    "y_pred=svl2.predict(X_test)"
   ]
  },
  {
   "cell_type": "code",
   "execution_count": 60,
   "metadata": {},
   "outputs": [
    {
     "data": {
      "text/plain": [
       "array([[ 34,   8],\n",
       "       [  2, 112]], dtype=int64)"
      ]
     },
     "execution_count": 60,
     "metadata": {},
     "output_type": "execute_result"
    }
   ],
   "source": [
    "from sklearn.metrics import confusion_matrix,accuracy_score,classification_report\n",
    "confusion_matrix(y_test,y_pred)"
   ]
  },
  {
   "cell_type": "code",
   "execution_count": 61,
   "metadata": {},
   "outputs": [
    {
     "data": {
      "text/plain": [
       "0.9358974358974359"
      ]
     },
     "execution_count": 61,
     "metadata": {},
     "output_type": "execute_result"
    }
   ],
   "source": [
    "accuracy_score(y_test,y_pred)"
   ]
  },
  {
   "cell_type": "code",
   "execution_count": 62,
   "metadata": {},
   "outputs": [
    {
     "name": "stdout",
     "output_type": "stream",
     "text": [
      "              precision    recall  f1-score   support\n",
      "\n",
      "           0       0.94      0.81      0.87        42\n",
      "           1       0.93      0.98      0.96       114\n",
      "\n",
      "   micro avg       0.94      0.94      0.94       156\n",
      "   macro avg       0.94      0.90      0.91       156\n",
      "weighted avg       0.94      0.94      0.93       156\n",
      "\n"
     ]
    }
   ],
   "source": [
    "print(classification_report(y_test,y_pred))"
   ]
  },
  {
   "cell_type": "code",
   "execution_count": null,
   "metadata": {},
   "outputs": [],
   "source": []
  }
 ],
 "metadata": {
  "kernelspec": {
   "display_name": "Python 3",
   "language": "python",
   "name": "python3"
  },
  "language_info": {
   "codemirror_mode": {
    "name": "ipython",
    "version": 3
   },
   "file_extension": ".py",
   "mimetype": "text/x-python",
   "name": "python",
   "nbconvert_exporter": "python",
   "pygments_lexer": "ipython3",
   "version": "3.7.1"
  }
 },
 "nbformat": 4,
 "nbformat_minor": 2
}
